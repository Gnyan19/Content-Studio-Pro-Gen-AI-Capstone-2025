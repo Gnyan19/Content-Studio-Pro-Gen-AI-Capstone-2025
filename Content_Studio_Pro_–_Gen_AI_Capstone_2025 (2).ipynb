{
  "metadata": {
    "kernelspec": {
      "language": "python",
      "display_name": "Python 3",
      "name": "python3"
    },
    "language_info": {
      "name": "python",
      "version": "3.10.12",
      "mimetype": "text/x-python",
      "codemirror_mode": {
        "name": "ipython",
        "version": 3
      },
      "pygments_lexer": "ipython3",
      "nbconvert_exporter": "python",
      "file_extension": ".py"
    },
    "kaggle": {
      "accelerator": "none",
      "dataSources": [
        {
          "sourceId": 97258,
          "sourceType": "competition"
        }
      ],
      "isInternetEnabled": true,
      "language": "python",
      "sourceType": "notebook",
      "isGpuEnabled": false
    },
    "colab": {
      "provenance": [],
      "name": "Content Studio Pro – Gen AI Capstone 2025"
    }
  },
  "nbformat_minor": 0,
  "nbformat": 4,
  "cells": [
    {
      "source": [
        "# IMPORTANT: SOME KAGGLE DATA SOURCES ARE PRIVATE\n",
        "# RUN THIS CELL IN ORDER TO IMPORT YOUR KAGGLE DATA SOURCES.\n",
        "import kagglehub\n",
        "kagglehub.login()\n"
      ],
      "metadata": {
        "id": "05v92j_XB0Sd"
      },
      "cell_type": "code",
      "outputs": [],
      "execution_count": null
    },
    {
      "source": [
        "# IMPORTANT: RUN THIS CELL IN ORDER TO IMPORT YOUR KAGGLE DATA SOURCES,\n",
        "# THEN FEEL FREE TO DELETE THIS CELL.\n",
        "# NOTE: THIS NOTEBOOK ENVIRONMENT DIFFERS FROM KAGGLE'S PYTHON\n",
        "# ENVIRONMENT SO THERE MAY BE MISSING LIBRARIES USED BY YOUR\n",
        "# NOTEBOOK.\n",
        "\n",
        "gen_ai_intensive_course_capstone_2025q1_path = kagglehub.competition_download('gen-ai-intensive-course-capstone-2025q1')\n",
        "\n",
        "print('Data source import complete.')\n"
      ],
      "metadata": {
        "id": "FZQxsJOYB0Se"
      },
      "cell_type": "code",
      "outputs": [],
      "execution_count": null
    },
    {
      "cell_type": "markdown",
      "source": [
        "# 🧠 Creative Content Generator AI Assistant - Full Project\n",
        "****Welcome to the Creative Content Studio Pro project powered by Google Gemini Pro!****\n",
        "\n",
        "This notebook helps you generate engaging, AI-driven content for platforms like:\n",
        "1. YouTube\n",
        "2. Instagram\n",
        "3. LinkedIn\n",
        "4. blogs\n",
        "5. advertisements\n",
        "6. movie scripts — all from a single interface."
      ],
      "metadata": {
        "id": "HIrJBw8QtNyp"
      }
    },
    {
      "cell_type": "markdown",
      "source": [
        "# 🎓 Google Capstone 2025 Edition\n",
        "✅ Capstone Track: Applied AI for Digital Creativity\n",
        "\n",
        "🧠 Model Used: Gemini 1.5 Pro (google-generativeai)\n",
        "\n",
        "🚀 Environment: Kaggle + Google API + LLM Prompt Engineering\n",
        "\n",
        "📚 Goal: Build a multi-platform content engine using state-of-the-art generative AI."
      ],
      "metadata": {
        "id": "uZx0Xu7itNyr"
      }
    },
    {
      "cell_type": "markdown",
      "source": [
        "## 📦 Environment Setup\n",
        "\n",
        "To run this notebook, ensure the following:\n",
        "\n",
        "- Running on a **Kaggle Notebook**\n",
        "- `GOOGLE_API_KEY` is stored securely as a **Kaggle Secret**\n",
        "- `google-generativeai` is installed and ready\n"
      ],
      "metadata": {
        "id": "Egj1aQoLtNyr"
      }
    },
    {
      "cell_type": "markdown",
      "source": [
        "# Install the SDK"
      ],
      "metadata": {
        "id": "4MKQYIePtNys"
      }
    },
    {
      "cell_type": "code",
      "source": [
        "!pip install -U google-generativeai==0.5.3"
      ],
      "metadata": {
        "trusted": true,
        "execution": {
          "iopub.status.busy": "2025-04-18T06:01:11.976918Z",
          "iopub.execute_input": "2025-04-18T06:01:11.977192Z",
          "iopub.status.idle": "2025-04-18T06:01:31.920249Z",
          "shell.execute_reply.started": "2025-04-18T06:01:11.977164Z",
          "shell.execute_reply": "2025-04-18T06:01:31.919229Z"
        },
        "id": "rp192k3NtNyt"
      },
      "outputs": [],
      "execution_count": null
    },
    {
      "cell_type": "markdown",
      "source": [
        "Import the SDK and some helpers for rendering the output."
      ],
      "metadata": {
        "id": "4IFYKZ2RtNyt"
      }
    },
    {
      "cell_type": "code",
      "source": [
        "import google.generativeai as genai\n",
        "from kaggle_secrets import UserSecretsClient"
      ],
      "metadata": {
        "trusted": true,
        "execution": {
          "iopub.status.busy": "2025-04-18T06:01:40.643705Z",
          "iopub.execute_input": "2025-04-18T06:01:40.64411Z",
          "iopub.status.idle": "2025-04-18T06:01:42.3679Z",
          "shell.execute_reply.started": "2025-04-18T06:01:40.644069Z",
          "shell.execute_reply": "2025-04-18T06:01:42.366853Z"
        },
        "id": "Yv-SengJtNyu"
      },
      "outputs": [],
      "execution_count": null
    },
    {
      "cell_type": "markdown",
      "source": [
        "# Set up your API key\n",
        "To run the following cell, your API key must be stored it in a Kaggle secret named GOOGLE_API_KEY.\n",
        "\n",
        "To make the key available through Kaggle secrets, choose Secrets from the Add-ons menu and follow the instructions to add your key or enable it for this notebook."
      ],
      "metadata": {
        "id": "ocExDTfKtNyu"
      }
    },
    {
      "cell_type": "code",
      "source": [
        "GOOGLE_API_KEY = UserSecretsClient().get_secret(\"GOOGLE_API_KEY\")\n",
        "genai.configure(api_key=GOOGLE_API_KEY)\n",
        "model = genai.GenerativeModel(model_name=\"models/gemini-1.5-pro-latest\")"
      ],
      "metadata": {
        "trusted": true,
        "execution": {
          "iopub.status.busy": "2025-04-18T06:02:33.343899Z",
          "iopub.execute_input": "2025-04-18T06:02:33.34426Z",
          "iopub.status.idle": "2025-04-18T06:02:33.411922Z",
          "shell.execute_reply.started": "2025-04-18T06:02:33.344226Z",
          "shell.execute_reply": "2025-04-18T06:02:33.410925Z"
        },
        "id": "GQwFTKAqtNyv"
      },
      "outputs": [],
      "execution_count": null
    },
    {
      "cell_type": "markdown",
      "source": [
        "# 🎬 1. YouTube Content Generation\n",
        "****Features:****\n",
        "1. 🎬 Title (1 catchy headline)\n",
        "2. 📄 Description (150-200 words + hashtags)\n",
        "3. 📝 Video Script with time-based segments:\n",
        "   - Intro: A hook with a welcome message (~30 seconds)\n",
        "   - Main Content: Break the rest of the time into 3–5 logical segments with timestamps and titles (e.g., 0:30–2:00: \"Segment Name\").\n",
        "   - Outro: Wrap-up and call to action (~30 seconds)"
      ],
      "metadata": {
        "id": "IAnEwcz8tNyv"
      }
    },
    {
      "cell_type": "code",
      "source": [
        "def generate_youtube_script(topic, duration_minutes):\n",
        "    total_seconds = duration_minutes * 60\n",
        "    prompt = f\"\"\"\n",
        "You are a YouTube content generation assistant.\n",
        "\n",
        "Generate a full video content package for the topic: \"{topic}\"\n",
        "The total duration should be approx {duration_minutes} minutes ({total_seconds} seconds).\n",
        "\n",
        "Provide the following:\n",
        "\n",
        "1. 🎬 Title (1 catchy headline)\n",
        "2. 📄 Description (150-200 words + hashtags)\n",
        "3. 📝 Video Script with time-based segments:\n",
        "   - Intro: A hook with a welcome message (~30 seconds)\n",
        "   - Main Content: Break the rest of the time into 3–5 logical segments with timestamps and titles (e.g., 0:30–2:00: \"Segment Name\").\n",
        "   - Outro: Wrap-up and call to action (~30 seconds)\n",
        "\n",
        "Make it engaging, slightly enthusiastic, informative, and beginner-friendly. Output in clearly labeled sections.\n",
        "\"\"\"\n",
        "    response = model.generate_content(prompt)\n",
        "    return response.text"
      ],
      "metadata": {
        "trusted": true,
        "execution": {
          "iopub.status.busy": "2025-04-18T06:02:41.059114Z",
          "iopub.execute_input": "2025-04-18T06:02:41.05944Z",
          "iopub.status.idle": "2025-04-18T06:02:41.0648Z",
          "shell.execute_reply.started": "2025-04-18T06:02:41.059415Z",
          "shell.execute_reply": "2025-04-18T06:02:41.063581Z"
        },
        "id": "5z0TJLBHtNyv"
      },
      "outputs": [],
      "execution_count": null
    },
    {
      "cell_type": "markdown",
      "source": [
        "# 💡 Usage Example"
      ],
      "metadata": {
        "id": "t_lm26zRtNyv"
      }
    },
    {
      "cell_type": "code",
      "source": [
        "topic = \"amazon kdp in 2025 benifits\"\n",
        "duration = 5  # minutes\n",
        "\n",
        "output = generate_youtube_script(topic, duration)\n",
        "print(output)"
      ],
      "metadata": {
        "trusted": true,
        "execution": {
          "iopub.status.busy": "2025-04-18T06:02:48.597281Z",
          "iopub.execute_input": "2025-04-18T06:02:48.597691Z",
          "iopub.status.idle": "2025-04-18T06:03:06.174845Z",
          "shell.execute_reply.started": "2025-04-18T06:02:48.597655Z",
          "shell.execute_reply": "2025-04-18T06:03:06.173901Z"
        },
        "id": "fipZvFgntNyw"
      },
      "outputs": [],
      "execution_count": null
    },
    {
      "cell_type": "markdown",
      "source": [
        "# 🧠 AI Capability\n",
        "* Gemini Pro breaks time into logical chunks\n",
        "\n",
        "* Writes timestamped narration\n",
        "\n",
        "* Integrates marketing psychology (hook, CTA, pacing)"
      ],
      "metadata": {
        "id": "66rR9SYbtNyw"
      }
    },
    {
      "cell_type": "markdown",
      "source": [
        "# 📸 2. Instagram Content (Post + Reels)\n",
        "**Features:**\n",
        "- Hook\n",
        "- 3-5 short scenes or segments\n",
        "- On-screen text suggestions\n",
        "- Audio or music style\n",
        "- Hashtags"
      ],
      "metadata": {
        "id": "jHhcu9KmtNyw"
      }
    },
    {
      "cell_type": "code",
      "source": [
        "def generate_instagram_caption(image_description):\n",
        "    prompt = f\"\"\"\n",
        "Generate a mood-based Instagram caption for an image that is: {image_description}\n",
        "Return only the caption.\n",
        "\"\"\"\n",
        "    return model.generate_content(prompt).text\n",
        "\n",
        "def generate_instagram_reel_script(topic):\n",
        "    prompt = f\"\"\"\n",
        "Generate a creative Instagram Reels script for the topic: {topic}.\n",
        "Include\n",
        "- Hook\n",
        "- 3-5 short scenes or segments\n",
        "- On-screen text suggestions\n",
        "- Audio or music style\n",
        "- Hashtags\n",
        "\"\"\"\n",
        "    return model.generate_content(prompt).text"
      ],
      "metadata": {
        "trusted": true,
        "execution": {
          "iopub.status.busy": "2025-04-18T06:03:26.098187Z",
          "iopub.execute_input": "2025-04-18T06:03:26.098541Z",
          "iopub.status.idle": "2025-04-18T06:03:26.10338Z",
          "shell.execute_reply.started": "2025-04-18T06:03:26.098514Z",
          "shell.execute_reply": "2025-04-18T06:03:26.102366Z"
        },
        "id": "UfKUHIw1tNyw"
      },
      "outputs": [],
      "execution_count": null
    },
    {
      "cell_type": "markdown",
      "source": [
        "# 💡 Usage Example"
      ],
      "metadata": {
        "id": "Qqc1nJ0YtNyx"
      }
    },
    {
      "cell_type": "code",
      "source": [
        "print(generate_instagram_caption(\"sunset beach with calm waves\"))\n",
        "print(generate_instagram_reel_script(\"Morning routine for productivity\"))"
      ],
      "metadata": {
        "trusted": true,
        "execution": {
          "iopub.status.busy": "2025-04-18T06:03:31.921981Z",
          "iopub.execute_input": "2025-04-18T06:03:31.922415Z",
          "iopub.status.idle": "2025-04-18T06:03:42.472229Z",
          "shell.execute_reply.started": "2025-04-18T06:03:31.922379Z",
          "shell.execute_reply": "2025-04-18T06:03:42.471277Z"
        },
        "id": "MGdNnKw_tNyx"
      },
      "outputs": [],
      "execution_count": null
    },
    {
      "cell_type": "markdown",
      "source": [
        "# 🧠 AI Capability\n",
        "* Uses emotional tone recognition\n",
        "\n",
        "* Suggests TikTok/Reels-native scripting patterns"
      ],
      "metadata": {
        "id": "atfeU1-TtNyx"
      }
    },
    {
      "cell_type": "markdown",
      "source": [
        "# 🧠 3. Brand Ad Script Generation\n",
        "**Features:**\n",
        "1. 🎯 Title: Catchy campaign or ad headline\n",
        "2. ✨ Hook: Attention-grabbing first line or scene (0:00 timestamp)\n",
        "3. 🎬 Ad Script (with timestamps and segments), broken down as:\n",
        "    - Hook/Scene Opener (0:00–X)\n",
        "    - Product Highlight / Value Prop\n",
        "    - Emotional or Relatable Use Case\n",
        "    - Call to Action\n",
        "    - Outro/Tagline/Closing Note"
      ],
      "metadata": {
        "id": "JSLri-rstNyx"
      }
    },
    {
      "cell_type": "code",
      "source": [
        "def generate_brand_ad_script(brand, product_description, duration_seconds, audience=None):\n",
        "    minutes = duration_seconds // 60\n",
        "    seconds = duration_seconds % 60\n",
        "    formatted_duration = f\"{minutes}m {seconds}s\" if minutes else f\"{seconds}s\"\n",
        "\n",
        "    prompt = f\"\"\"\n",
        "You are an expert ad copywriter.\n",
        "\n",
        "Create a full video ad script for a brand/product with the following details:\n",
        "\n",
        "Brand/Product Name: \"{brand}\"\n",
        "Product Description: \"{product_description}\"\n",
        "{\"Target Audience: \" + audience if audience else \"\"}\n",
        "Desired Ad Length: {formatted_duration}\n",
        "\n",
        "Output the following:\n",
        "1. Title: Catchy campaign or ad headline\n",
        "2. ✨ Hook: Attention-grabbing first line or scene (0:00 timestamp)\n",
        "3. 🎬 Ad Script (with timestamps and segments), broken down as:\n",
        "    - Hook/Scene Opener (0:00–X)\n",
        "    - Product Highlight / Value Prop\n",
        "    - Emotional or Relatable Use Case\n",
        "    - Call to Action\n",
        "    - Outro/Tagline/Closing Note\n",
        "\n",
        "Keep it high-conversion, clear, concise, and emotionally appealing. Label sections clearly. Use timestamps based on total duration: {duration_seconds} seconds.\n",
        "\"\"\"\n",
        "\n",
        "    response = model.generate_content(prompt)\n",
        "    return response.text"
      ],
      "metadata": {
        "trusted": true,
        "execution": {
          "iopub.status.busy": "2025-04-18T06:03:51.292405Z",
          "iopub.execute_input": "2025-04-18T06:03:51.292762Z",
          "iopub.status.idle": "2025-04-18T06:03:51.298281Z",
          "shell.execute_reply.started": "2025-04-18T06:03:51.292732Z",
          "shell.execute_reply": "2025-04-18T06:03:51.297372Z"
        },
        "id": "57_XDGxOtNyx"
      },
      "outputs": [],
      "execution_count": null
    },
    {
      "cell_type": "markdown",
      "source": [
        "# 💡 Usage Example"
      ],
      "metadata": {
        "id": "FzHk6yKftNyx"
      }
    },
    {
      "cell_type": "code",
      "source": [
        "brand = \"Skin care\"\n",
        "product_description = \"An all-natural, anti-aging face serum made with plant-based ingredients and zero chemicals. Fast-absorbing and dermatologist-approved.\"\n",
        "audience = \"Women aged 25–40 who care about natural beauty and sustainability\"\n",
        "duration = 60\n",
        "print(generate_brand_ad_script(brand, product_description, duration, audience))"
      ],
      "metadata": {
        "trusted": true,
        "execution": {
          "iopub.status.busy": "2025-04-18T06:03:56.468097Z",
          "iopub.execute_input": "2025-04-18T06:03:56.46843Z",
          "iopub.status.idle": "2025-04-18T06:04:07.462912Z",
          "shell.execute_reply.started": "2025-04-18T06:03:56.468392Z",
          "shell.execute_reply": "2025-04-18T06:04:07.462061Z"
        },
        "id": "CzupQGL9tNyx"
      },
      "outputs": [],
      "execution_count": null
    },
    {
      "cell_type": "markdown",
      "source": [
        "# 🧠 AI Capability\n",
        "* Applies copywriting frameworks (AIDA, PAS)\n",
        "\n",
        "* Understands audience persona psychology\n",
        "\n",
        "* Produces video-storyboard-ready content"
      ],
      "metadata": {
        "id": "2QEobeCGtNyy"
      }
    },
    {
      "cell_type": "markdown",
      "source": [
        "# 🎬 4. Movie Script Generation\n",
        "****Features:****\n",
        "1. 🔥 Logline (1–2 sentence hook)\n",
        "2. 🎬 Plot Summary (3-Act Structure)\n",
        "   - Act I: Setup\n",
        "   - Act II: Conflict/Rising Action\n",
        "   - Act III: Climax & Resolution\n",
        "3. 🧵 Character Arcs\n",
        "4. ✍️ Key Scenes (2–3)\n",
        "5. 🎞️ Opening Scene and Final Scene\n",
        "6. 🎥 Sample Script Snippet"
      ],
      "metadata": {
        "id": "igzwcyoqtNyy"
      }
    },
    {
      "cell_type": "code",
      "source": [
        "def generate_movie_script(one_liner, plot_theme, characters, genre=\"Drama\", duration_minutes=120):\n",
        "    prompt = f\"\"\"\n",
        "You are a professional screenwriter and story architect.\n",
        "\n",
        "Based on the following inputs, generate a detailed movie concept draft.\n",
        "\n",
        "🎯 One-Liner Idea: {one_liner}\n",
        "🧠 Theme/Plot: {plot_theme}\n",
        "👥 Characters: {characters}\n",
        "🎞️ Genre: {genre}\n",
        "⏱️ Desired Movie Length: {duration_minutes} minutes\n",
        "\n",
        "Output in the following structure:\n",
        "\n",
        "1. Logline (1–2 sentence hook)\n",
        "2. 🎬 Plot Summary (3-Act Structure)\n",
        "   - Act I: Setup\n",
        "   - Act II: Conflict/Rising Action\n",
        "   - Act III: Climax & Resolution\n",
        "3. 🧵 Character Arcs\n",
        "4. ✍️ Key Scenes (2–3)\n",
        "5. 🎞️ Opening Scene and Final Scene\n",
        "6. 🎥 Sample Script Snippet\n",
        "\n",
        "Be cinematic, emotionally rich, and consistent with genre.\n",
        "\"\"\"\n",
        "    return model.generate_content(prompt).text\n"
      ],
      "metadata": {
        "trusted": true,
        "execution": {
          "iopub.status.busy": "2025-04-18T06:04:16.84478Z",
          "iopub.execute_input": "2025-04-18T06:04:16.845206Z",
          "iopub.status.idle": "2025-04-18T06:04:16.850231Z",
          "shell.execute_reply.started": "2025-04-18T06:04:16.845178Z",
          "shell.execute_reply": "2025-04-18T06:04:16.849211Z"
        },
        "id": "40zKQ_ZCtNyy"
      },
      "outputs": [],
      "execution_count": null
    },
    {
      "cell_type": "markdown",
      "source": [
        "# 💡 Usage Example"
      ],
      "metadata": {
        "id": "ITcPMFJYtNyy"
      }
    },
    {
      "cell_type": "code",
      "source": [
        "one_liner = \"Leo follows Parthiban, a seemingly ordinary café owner who gets entangled in a web of violence when his past as a drug lord is revealed.\"\n",
        "plot_theme = \"identity, violence, survival.\"\n",
        "characters = \"\"\"\n",
        "- Parthiban / Leo Das: A calm, peace-loving cafe owner in Kashmir with a violent past. He is mistaken for Leo Das, a deadly gangster, forcing him to confront his identity and protect his family.\n",
        "- Sathya: Parthiban’s supportive wife who stands by him through the chaos, unaware of the full extent of his past.\n",
        "- Antony Das: A ruthless gangster and Leo's estranged father. He believes Parthiban is his long-lost son and tries to bring him back into the underworld.\n",
        "- Harold Das: Antony Das's brother, involved in the criminal empire. He plays a crucial role in the family's operations and confrontations.\n",
        "\"\"\"\n",
        "print(generate_movie_script(one_liner, plot_theme, characters, \"Action thriller\", 110))"
      ],
      "metadata": {
        "trusted": true,
        "execution": {
          "iopub.status.busy": "2025-04-18T06:04:21.251525Z",
          "iopub.execute_input": "2025-04-18T06:04:21.251866Z",
          "iopub.status.idle": "2025-04-18T06:04:45.759712Z",
          "shell.execute_reply.started": "2025-04-18T06:04:21.25184Z",
          "shell.execute_reply": "2025-04-18T06:04:45.758606Z"
        },
        "id": "yEzXYvo8tNyy"
      },
      "outputs": [],
      "execution_count": null
    },
    {
      "cell_type": "markdown",
      "source": [
        "# 🧠 AI Capability\n",
        "* Understands screenplay structure\n",
        "\n",
        "* Maps character evolution\n",
        "\n",
        "* Generates emotional stakes and pacing"
      ],
      "metadata": {
        "id": "qElGoZZXtNyy"
      }
    },
    {
      "cell_type": "markdown",
      "source": [
        "# 📝 5. Blog Generation\n",
        "****Features:****\n",
        "- 🖊️ Title\n",
        "- 🧾 Subheadings with explanations\n",
        "- 🔍 SEO keywords"
      ],
      "metadata": {
        "id": "V4AyIK6htNyy"
      }
    },
    {
      "cell_type": "code",
      "source": [
        "def generate_blog_or_book(topic, type=\"blog\", genre=\"non-fiction\"):\n",
        "    prompt = f\"\"\"\n",
        "Create a {type} on the topic: \"{topic}\".\n",
        "If type is book, provide:\n",
        "- 📖 Title\n",
        "- 📑 Chapter breakdown (5–8)\n",
        "- 📘 Summary for each chapter\n",
        "- 🧵 Narrative tone\n",
        "\n",
        "If type is blog, include:\n",
        "- 🖊️ Title\n",
        "- 🧾 Subheadings with explanations\n",
        "- 🔍 SEO keywords\n",
        "\"\"\"\n",
        "    return model.generate_content(prompt).text\n"
      ],
      "metadata": {
        "trusted": true,
        "execution": {
          "iopub.status.busy": "2025-04-18T06:06:13.799332Z",
          "iopub.execute_input": "2025-04-18T06:06:13.799737Z",
          "iopub.status.idle": "2025-04-18T06:06:13.80477Z",
          "shell.execute_reply.started": "2025-04-18T06:06:13.799708Z",
          "shell.execute_reply": "2025-04-18T06:06:13.803722Z"
        },
        "id": "Ti78mriktNyy"
      },
      "outputs": [],
      "execution_count": null
    },
    {
      "cell_type": "markdown",
      "source": [
        "# 💡 Usage Example"
      ],
      "metadata": {
        "id": "X7fgylbrtNyz"
      }
    },
    {
      "cell_type": "code",
      "source": [
        "print(generate_blog_or_book(\"How to build your personal brand on LinkedIn\", \"blog\"))\n",
        "print(generate_blog_or_book(\"Digital Minimalism\", \"book\"))"
      ],
      "metadata": {
        "trusted": true,
        "execution": {
          "iopub.status.busy": "2025-04-18T06:06:19.598635Z",
          "iopub.execute_input": "2025-04-18T06:06:19.599041Z",
          "iopub.status.idle": "2025-04-18T06:06:40.19275Z",
          "shell.execute_reply.started": "2025-04-18T06:06:19.599007Z",
          "shell.execute_reply": "2025-04-18T06:06:40.191739Z"
        },
        "id": "c327p0G3tNyz"
      },
      "outputs": [],
      "execution_count": null
    },
    {
      "cell_type": "markdown",
      "source": [
        "# 🧠 AI Capability\n",
        "* Structures content using narrative design techniques\n",
        "\n",
        "* Balances SEO optimization with readability\n",
        "\n",
        "* Generates chapter flows for publishing\n",
        "\n"
      ],
      "metadata": {
        "id": "tkDvaovxtNyz"
      }
    },
    {
      "cell_type": "markdown",
      "source": [
        "# 🎨 6. Text to image prompt Generation\n"
      ],
      "metadata": {
        "id": "u4i-YIPZtNyz"
      }
    },
    {
      "cell_type": "code",
      "source": [
        "def generate_text_to_image_prompt(scene_description, style=\"realistic\"):\n",
        "    prompt = f\"\"\"\n",
        "Convert this scene into a text-to-image prompt for an AI art generator.\n",
        "\n",
        "Scene: {scene_description}\n",
        "Preferred Style: {style}\n",
        "\n",
        "Format:\n",
        "- 🎨 Prompt for text-to-image generation (detailed, descriptive, with artistic flair)\n",
        "\"\"\"\n",
        "    return model.generate_content(prompt).text"
      ],
      "metadata": {
        "trusted": true,
        "execution": {
          "iopub.status.busy": "2025-04-18T06:06:47.708837Z",
          "iopub.execute_input": "2025-04-18T06:06:47.709263Z",
          "iopub.status.idle": "2025-04-18T06:06:47.713947Z",
          "shell.execute_reply.started": "2025-04-18T06:06:47.709231Z",
          "shell.execute_reply": "2025-04-18T06:06:47.713039Z"
        },
        "id": "knc_vryQtNyz"
      },
      "outputs": [],
      "execution_count": null
    },
    {
      "cell_type": "markdown",
      "source": [
        "# 💡 Usage Example"
      ],
      "metadata": {
        "id": "KI9O9ojQtNyz"
      }
    },
    {
      "cell_type": "code",
      "source": [
        "print(generate_text_to_image_prompt(\"A cyberpunk city at night with neon lights and rain\", \"anime\"))"
      ],
      "metadata": {
        "trusted": true,
        "execution": {
          "iopub.status.busy": "2025-04-18T06:06:52.020513Z",
          "iopub.execute_input": "2025-04-18T06:06:52.020849Z",
          "iopub.status.idle": "2025-04-18T06:06:55.088285Z",
          "shell.execute_reply.started": "2025-04-18T06:06:52.020825Z",
          "shell.execute_reply": "2025-04-18T06:06:55.08741Z"
        },
        "id": "EX2TvrR_tNy3"
      },
      "outputs": [],
      "execution_count": null
    },
    {
      "cell_type": "markdown",
      "source": [
        "# 🚀 Now get the generated prompt and use it in any text to image generation to get better results."
      ],
      "metadata": {
        "id": "pKMuV9VCtNy3"
      }
    },
    {
      "cell_type": "markdown",
      "source": [
        "****💡Here is a sample output generated using ChatGPT using the prompt we generated.****"
      ],
      "metadata": {
        "id": "6aVnNnzntNy3"
      }
    },
    {
      "cell_type": "markdown",
      "source": [
        "![ChatGPT Image Apr 15, 2025, 03_54_30 PM_11zon.png](attachment:8cae0df2-5b5a-4393-9d5e-6e3c02b1fe02.png)"
      ],
      "metadata": {
        "id": "KtX4r_5gB0Sr"
      }
    },
    {
      "cell_type": "markdown",
      "source": [
        "# 🧠 AI Capability\n",
        "* Applies descriptive language enrichment\n",
        "\n",
        "* Follows Midjourney / DALL·E syntax\n",
        "\n",
        "* Adds visual depth + stylistic instructions"
      ],
      "metadata": {
        "id": "mj9xKd-WtNy3"
      }
    },
    {
      "cell_type": "markdown",
      "source": [
        "# 💼 7. Coperate content Generation\n",
        "**Features:**\n",
        "1. 🗣️ Opening Greeting\n",
        "2. 💬 Main Announcement or Message\n",
        "3. ✅ Action Points or Takeaways\n",
        "4. 📢 Closing Note or Motivation\n"
      ],
      "metadata": {
        "id": "meevfCr6tNy4"
      }
    },
    {
      "cell_type": "code",
      "source": [
        "def generate_internal_corp_script(purpose, company_name, tone=\"professional\"):\n",
        "    prompt = f\"\"\"\n",
        "You're the communications head for {company_name}.\n",
        "\n",
        "Generate a script/message for internal use.\n",
        "\n",
        "Purpose: {purpose}\n",
        "Tone: {tone}\n",
        "\n",
        "Include:\n",
        "1. 🗣️ Opening Greeting\n",
        "2. 💬 Main Announcement or Message\n",
        "3. ✅ Action Points or Takeaways\n",
        "4. 📢 Closing Note or Motivation\n",
        "\n",
        "Make it clear, respectful, and aligned with corporate tone.\n",
        "\"\"\"\n",
        "    return model.generate_content(prompt).text"
      ],
      "metadata": {
        "trusted": true,
        "execution": {
          "iopub.status.busy": "2025-04-18T06:07:06.850189Z",
          "iopub.execute_input": "2025-04-18T06:07:06.850545Z",
          "iopub.status.idle": "2025-04-18T06:07:06.855441Z",
          "shell.execute_reply.started": "2025-04-18T06:07:06.85052Z",
          "shell.execute_reply": "2025-04-18T06:07:06.854441Z"
        },
        "id": "7xs3NFtZtNy4"
      },
      "outputs": [],
      "execution_count": null
    },
    {
      "cell_type": "markdown",
      "source": [
        "# 💡 Usage Example"
      ],
      "metadata": {
        "id": "X_Wenna5tNy4"
      }
    },
    {
      "cell_type": "code",
      "source": [
        "print(generate_internal_corp_script(\"Announce the launch of 5 day intensive genarative AI upskilling program\", \"Google and Kaggle\"))"
      ],
      "metadata": {
        "trusted": true,
        "execution": {
          "iopub.status.busy": "2025-04-18T06:07:12.177064Z",
          "iopub.execute_input": "2025-04-18T06:07:12.177397Z",
          "iopub.status.idle": "2025-04-18T06:07:18.993989Z",
          "shell.execute_reply.started": "2025-04-18T06:07:12.177372Z",
          "shell.execute_reply": "2025-04-18T06:07:18.992694Z"
        },
        "id": "lmCUi5AetNy4"
      },
      "outputs": [],
      "execution_count": null
    },
    {
      "cell_type": "markdown",
      "source": [
        "# 🧠 AI Capability\n",
        "* Emulates executive-level communication for internal stakeholders\n",
        "\n",
        "* Maintains clarity and structure using controlled generation prompts\n",
        "\n",
        "* Adapts tone for professional and organizational alignment\n",
        "\n",
        "* Supports action-driven messaging for internal engagement\n",
        "\n"
      ],
      "metadata": {
        "id": "0nVI0PfdtNy4"
      }
    },
    {
      "cell_type": "markdown",
      "source": [
        "# 📥 8. Linkedin post Generation\n",
        "**Features:**\n",
        "1. 🔥 Hook (1–2 lines to grab attention)\n",
        "2. 🧠 Insight / Experience Share (3–5 short paras)\n",
        "3. 🚀 Takeaway or Motivation\n",
        "4. 🙌 CTA (comment/like/share)\n"
      ],
      "metadata": {
        "id": "t1NProMntNy4"
      }
    },
    {
      "cell_type": "code",
      "source": [
        "def generate_linkedin_content(topic, purpose=\"inspiration\", tone=\"authentic\"):\n",
        "    prompt = f\"\"\"\n",
        "You're a thought leader and storyteller on LinkedIn.\n",
        "\n",
        "Write a post on: \"{topic}\"\n",
        "Purpose: {purpose}\n",
        "Tone: {tone}\n",
        "\n",
        "Structure:\n",
        "1. 🔥 Hook (1–2 lines to grab attention)\n",
        "2. 🧠 Insight / Experience Share (3–5 short paras)\n",
        "3. 🚀 Takeaway or Motivation\n",
        "4. 🙌 CTA (comment/like/share)\n",
        "\n",
        "Be real, insightful, and use a human voice.\n",
        "\"\"\"\n",
        "    return model.generate_content(prompt).text"
      ],
      "metadata": {
        "trusted": true,
        "execution": {
          "iopub.status.busy": "2025-04-18T06:07:27.671658Z",
          "iopub.execute_input": "2025-04-18T06:07:27.672076Z",
          "iopub.status.idle": "2025-04-18T06:07:27.676536Z",
          "shell.execute_reply.started": "2025-04-18T06:07:27.672042Z",
          "shell.execute_reply": "2025-04-18T06:07:27.675479Z"
        },
        "id": "s1vGiCIMtNy4"
      },
      "outputs": [],
      "execution_count": null
    },
    {
      "cell_type": "markdown",
      "source": [
        "# 💡 Usage Example"
      ],
      "metadata": {
        "id": "O_KZyrbTtNy5"
      }
    },
    {
      "cell_type": "code",
      "source": [
        "# ✅ Example\n",
        "print(generate_linkedin_content(\"Lessons I learned from failing my first startup\", purpose=\"reflection\", tone=\"vulnerable and insightful\"))"
      ],
      "metadata": {
        "trusted": true,
        "execution": {
          "iopub.status.busy": "2025-04-18T06:07:32.458743Z",
          "iopub.execute_input": "2025-04-18T06:07:32.459108Z",
          "iopub.status.idle": "2025-04-18T06:07:40.585867Z",
          "shell.execute_reply.started": "2025-04-18T06:07:32.459078Z",
          "shell.execute_reply": "2025-04-18T06:07:40.58486Z"
        },
        "id": "BTqd0lF_tNy5"
      },
      "outputs": [],
      "execution_count": null
    },
    {
      "cell_type": "markdown",
      "source": [
        "# 🧠 AI Capability\n",
        "* Mimics human storytelling\n",
        "\n",
        "* Calibrates tone and emotion for LinkedIn audiences\n",
        "\n",
        "* Writes for high engagement and relatability"
      ],
      "metadata": {
        "id": "bhz5b4_atNy5"
      }
    },
    {
      "cell_type": "markdown",
      "source": [
        "# 🔍 Gen AI Capabilities Demonstrated in Content Studio Pro"
      ],
      "metadata": {
        "id": "f_kR580StNy5"
      }
    },
    {
      "cell_type": "markdown",
      "source": [
        "In building Content Studio Pro, a next-generation AI-powered content creation assistant, we’ve successfully implemented several advanced Gen AI capabilities. These features not only enhance user experience but also ensure powerful, adaptable, and context-aware generation across use cases.\n",
        "\n",
        "Here’s a breakdown of the core Gen AI capabilities integrated into the project:\n",
        "\n",
        "# ✅ 1. Structured Output / JSON Mode / Controlled Generation\n",
        "\n",
        "📌 What It Is:\n",
        "This capability enables precise, predictable, and labeled content generation, allowing seamless integration with front-end apps, automation systems, and creative workflows.\n",
        "\n",
        "🛠️ Where It’s Used:\n",
        "\n",
        "YouTube Script Generator: Outputs scripts segmented by labeled timestamps (e.g., Intro, Segment 1, CTA, Outro).\n",
        "\n",
        "Brand Ad Generator: Structured outputs with clearly labeled sections like Hook, Problem, Solution, CTA.\n",
        "\n",
        "Blog & Caption Generator: Uses markdown-style breakdowns like Headings, Bullet Points, and Callouts for readability.\n",
        "\n",
        "🎯 Why It Matters:\n",
        "Controlled generation ensures the output is clean, formatted, and production-ready — critical for real-world deployment in media, marketing, and publication.\n",
        "\n",
        "# ✅ 2. Few-Shot Prompting\n",
        "\n",
        "📌 What It Is:\n",
        "This technique involves showing the model a few examples within the prompt to guide it towards desired formats or tones — improving output quality without fine-tuning.\n",
        "\n",
        "🛠️ Where It’s Used:\n",
        "\n",
        "Instagram Reel and YouTube Captioning: Uses embedded few-shot examples to match trending formats and tones.\n",
        "\n",
        "Ad Script Generator: Demonstrates tone-matching for humorous, inspirational, or dramatic ad copy by leveraging style examples.\n",
        "\n",
        "🎯 Why It Matters:\n",
        "Few-shot prompting increases versatility across different platforms (e.g., YouTube vs. Instagram) and supports brand-specific tonality — crucial for modern content strategy.\n",
        "\n",
        "# ✅ 3. Function Calling\n",
        "\n",
        "📌 What It Is:\n",
        "This Gen AI capability allows the model to determine when and how to call specific functions or tools during the generation process, enabling modular and dynamic content creation.\n",
        "\n",
        "🛠️ Where It’s Used:\n",
        "\n",
        "Content Type Selector: Based on user input, the model calls the correct content generation function (e.g., YouTube Script vs. LinkedIn Post).\n",
        "\n",
        "Caption Generator for Reels: Detects whether the image is uploaded or text is input and invokes the appropriate function.\n",
        "\n",
        "🎯 Why It Matters:\n",
        "Function calling transforms the assistant into an intelligent multi-tool that adapts automatically to user intent, enabling complex workflows like multimodal input parsing or format switching.\n",
        "\n",
        "# ✅ 4. Long Context Window\n",
        "\n",
        "📌 What It Is:\n",
        "The model can handle extensive input prompts and return detailed, coherent responses across thousands of tokens.\n",
        "\n",
        "🛠️ Where It’s Used:\n",
        "\n",
        "Movie & Screenplay Generator: Accepts large inputs for plot summaries, character arcs, and genre, generating complete scene breakdowns and dialogue.\n",
        "\n",
        "YouTube + Blog Tools: Generate 3–5-minute scripts, long-form posts, and serialized content based on complex queries.\n",
        "\n",
        "🎯 Why It Matters:\n",
        "Long-context support ensures continuity and creative depth — essential for narrative generation, storyboarding, or multi-section marketing content.\n",
        "\n",
        "# ✅ 5. Grounding (Search-Augmented Prompting)\n",
        "\n",
        "�� What It Is:\n",
        "Grounding ensures that content generated is based on real-world knowledge or up-to-date information, either via in-prompt data or external retrieval.\n",
        "\n",
        "🛠️ Where It’s Used:\n",
        "\n",
        "Trend-Aware Ad Generator: Injects live trends (via search API or example keywords) to tailor ad suggestions to current audience interests.\n",
        "\n",
        "YouTube Video Topic Expander: Generates videos based on recent, relevant creator content or viral niches.\n",
        "\n",
        "🎯 Why It Matters:\n",
        "This allows for time-sensitive, trend-driven creativity — critical for social media campaigns, SEO content, and pop culture alignment."
      ],
      "metadata": {
        "id": "k67nutW9tNy5"
      }
    }
  ]
}